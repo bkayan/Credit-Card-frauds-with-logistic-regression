{
 "cells": [
  {
   "cell_type": "code",
   "execution_count": 1,
   "metadata": {},
   "outputs": [],
   "source": [
    "import numpy as np\n",
    "import sklearn as sk\n",
    "import pandas as pd\n",
    "import matplotlib.pyplot as plt\n",
    "from sklearn.preprocessing import scale\n",
    "import random"
   ]
  },
  {
   "cell_type": "code",
   "execution_count": 2,
   "metadata": {},
   "outputs": [],
   "source": [
    "df = pd.read_csv('creditcard.csv', low_memory=False)"
   ]
  },
  {
   "cell_type": "markdown",
   "metadata": {},
   "source": [
    "shuffle df and reset the index"
   ]
  },
  {
   "cell_type": "code",
   "execution_count": 3,
   "metadata": {},
   "outputs": [],
   "source": [
    "df = df.sample(frac=1).reset_index(drop= 'True')"
   ]
  },
  {
   "cell_type": "code",
   "execution_count": 4,
   "metadata": {},
   "outputs": [
    {
     "data": {
      "text/html": [
       "<div>\n",
       "<style scoped>\n",
       "    .dataframe tbody tr th:only-of-type {\n",
       "        vertical-align: middle;\n",
       "    }\n",
       "\n",
       "    .dataframe tbody tr th {\n",
       "        vertical-align: top;\n",
       "    }\n",
       "\n",
       "    .dataframe thead th {\n",
       "        text-align: right;\n",
       "    }\n",
       "</style>\n",
       "<table border=\"1\" class=\"dataframe\">\n",
       "  <thead>\n",
       "    <tr style=\"text-align: right;\">\n",
       "      <th></th>\n",
       "      <th>Time</th>\n",
       "      <th>V1</th>\n",
       "      <th>V2</th>\n",
       "      <th>V3</th>\n",
       "      <th>V4</th>\n",
       "      <th>V5</th>\n",
       "      <th>V6</th>\n",
       "      <th>V7</th>\n",
       "      <th>V8</th>\n",
       "      <th>V9</th>\n",
       "      <th>...</th>\n",
       "      <th>V21</th>\n",
       "      <th>V22</th>\n",
       "      <th>V23</th>\n",
       "      <th>V24</th>\n",
       "      <th>V25</th>\n",
       "      <th>V26</th>\n",
       "      <th>V27</th>\n",
       "      <th>V28</th>\n",
       "      <th>Amount</th>\n",
       "      <th>Class</th>\n",
       "    </tr>\n",
       "  </thead>\n",
       "  <tbody>\n",
       "    <tr>\n",
       "      <th>0</th>\n",
       "      <td>132822.0</td>\n",
       "      <td>-0.493940</td>\n",
       "      <td>1.465460</td>\n",
       "      <td>-0.465066</td>\n",
       "      <td>0.819669</td>\n",
       "      <td>0.768330</td>\n",
       "      <td>-0.351048</td>\n",
       "      <td>1.011809</td>\n",
       "      <td>0.297802</td>\n",
       "      <td>-1.073582</td>\n",
       "      <td>...</td>\n",
       "      <td>0.193279</td>\n",
       "      <td>0.708128</td>\n",
       "      <td>-0.260469</td>\n",
       "      <td>-0.379891</td>\n",
       "      <td>0.069444</td>\n",
       "      <td>-0.370120</td>\n",
       "      <td>0.306399</td>\n",
       "      <td>0.168482</td>\n",
       "      <td>22.33</td>\n",
       "      <td>0</td>\n",
       "    </tr>\n",
       "    <tr>\n",
       "      <th>1</th>\n",
       "      <td>141156.0</td>\n",
       "      <td>2.058234</td>\n",
       "      <td>-0.019696</td>\n",
       "      <td>-2.084143</td>\n",
       "      <td>0.174879</td>\n",
       "      <td>0.518718</td>\n",
       "      <td>-1.157019</td>\n",
       "      <td>0.568523</td>\n",
       "      <td>-0.306363</td>\n",
       "      <td>0.191449</td>\n",
       "      <td>...</td>\n",
       "      <td>0.135532</td>\n",
       "      <td>0.407994</td>\n",
       "      <td>-0.046121</td>\n",
       "      <td>-0.406840</td>\n",
       "      <td>0.365376</td>\n",
       "      <td>-0.156746</td>\n",
       "      <td>-0.067614</td>\n",
       "      <td>-0.085515</td>\n",
       "      <td>14.90</td>\n",
       "      <td>0</td>\n",
       "    </tr>\n",
       "    <tr>\n",
       "      <th>2</th>\n",
       "      <td>53331.0</td>\n",
       "      <td>1.081729</td>\n",
       "      <td>0.180342</td>\n",
       "      <td>0.351861</td>\n",
       "      <td>1.671582</td>\n",
       "      <td>-0.502715</td>\n",
       "      <td>-0.481779</td>\n",
       "      <td>-0.202872</td>\n",
       "      <td>0.004882</td>\n",
       "      <td>0.812609</td>\n",
       "      <td>...</td>\n",
       "      <td>-0.102985</td>\n",
       "      <td>-0.066007</td>\n",
       "      <td>-0.172165</td>\n",
       "      <td>0.291131</td>\n",
       "      <td>0.662847</td>\n",
       "      <td>-0.280053</td>\n",
       "      <td>0.069221</td>\n",
       "      <td>0.067299</td>\n",
       "      <td>47.48</td>\n",
       "      <td>0</td>\n",
       "    </tr>\n",
       "    <tr>\n",
       "      <th>3</th>\n",
       "      <td>74456.0</td>\n",
       "      <td>-1.213263</td>\n",
       "      <td>0.468419</td>\n",
       "      <td>0.931367</td>\n",
       "      <td>-0.635360</td>\n",
       "      <td>0.386933</td>\n",
       "      <td>0.477978</td>\n",
       "      <td>-0.173933</td>\n",
       "      <td>0.765089</td>\n",
       "      <td>0.221292</td>\n",
       "      <td>...</td>\n",
       "      <td>0.155403</td>\n",
       "      <td>0.388815</td>\n",
       "      <td>-0.283131</td>\n",
       "      <td>-1.273325</td>\n",
       "      <td>0.107333</td>\n",
       "      <td>0.561967</td>\n",
       "      <td>0.207934</td>\n",
       "      <td>0.046406</td>\n",
       "      <td>29.45</td>\n",
       "      <td>0</td>\n",
       "    </tr>\n",
       "    <tr>\n",
       "      <th>4</th>\n",
       "      <td>76057.0</td>\n",
       "      <td>-0.597596</td>\n",
       "      <td>0.882157</td>\n",
       "      <td>1.442570</td>\n",
       "      <td>0.993201</td>\n",
       "      <td>0.301721</td>\n",
       "      <td>-0.770058</td>\n",
       "      <td>0.629310</td>\n",
       "      <td>-0.029845</td>\n",
       "      <td>-0.646120</td>\n",
       "      <td>...</td>\n",
       "      <td>0.206645</td>\n",
       "      <td>0.730289</td>\n",
       "      <td>0.004053</td>\n",
       "      <td>0.633685</td>\n",
       "      <td>-0.303226</td>\n",
       "      <td>-0.322822</td>\n",
       "      <td>0.424821</td>\n",
       "      <td>0.235072</td>\n",
       "      <td>17.31</td>\n",
       "      <td>0</td>\n",
       "    </tr>\n",
       "  </tbody>\n",
       "</table>\n",
       "<p>5 rows × 31 columns</p>\n",
       "</div>"
      ],
      "text/plain": [
       "       Time        V1        V2        V3        V4        V5        V6  \\\n",
       "0  132822.0 -0.493940  1.465460 -0.465066  0.819669  0.768330 -0.351048   \n",
       "1  141156.0  2.058234 -0.019696 -2.084143  0.174879  0.518718 -1.157019   \n",
       "2   53331.0  1.081729  0.180342  0.351861  1.671582 -0.502715 -0.481779   \n",
       "3   74456.0 -1.213263  0.468419  0.931367 -0.635360  0.386933  0.477978   \n",
       "4   76057.0 -0.597596  0.882157  1.442570  0.993201  0.301721 -0.770058   \n",
       "\n",
       "         V7        V8        V9  ...       V21       V22       V23       V24  \\\n",
       "0  1.011809  0.297802 -1.073582  ...  0.193279  0.708128 -0.260469 -0.379891   \n",
       "1  0.568523 -0.306363  0.191449  ...  0.135532  0.407994 -0.046121 -0.406840   \n",
       "2 -0.202872  0.004882  0.812609  ... -0.102985 -0.066007 -0.172165  0.291131   \n",
       "3 -0.173933  0.765089  0.221292  ...  0.155403  0.388815 -0.283131 -1.273325   \n",
       "4  0.629310 -0.029845 -0.646120  ...  0.206645  0.730289  0.004053  0.633685   \n",
       "\n",
       "        V25       V26       V27       V28  Amount  Class  \n",
       "0  0.069444 -0.370120  0.306399  0.168482   22.33      0  \n",
       "1  0.365376 -0.156746 -0.067614 -0.085515   14.90      0  \n",
       "2  0.662847 -0.280053  0.069221  0.067299   47.48      0  \n",
       "3  0.107333  0.561967  0.207934  0.046406   29.45      0  \n",
       "4 -0.303226 -0.322822  0.424821  0.235072   17.31      0  \n",
       "\n",
       "[5 rows x 31 columns]"
      ]
     },
     "execution_count": 4,
     "metadata": {},
     "output_type": "execute_result"
    }
   ],
   "source": [
    "df.head()"
   ]
  },
  {
   "cell_type": "markdown",
   "metadata": {},
   "source": [
    "How many records are fraud and non-fraud"
   ]
  },
  {
   "cell_type": "code",
   "execution_count": 14,
   "metadata": {},
   "outputs": [
    {
     "name": "stdout",
     "output_type": "stream",
     "text": [
      "492\n",
      "284315\n"
     ]
    }
   ],
   "source": [
    "frauds = df.loc[df['Class'] == 1]\n",
    "non_frauds = df.loc[df['Class'] == 0]\n",
    "print(len(fraud))\n",
    "print(len(non_fraud))"
   ]
  },
  {
   "cell_type": "markdown",
   "metadata": {},
   "source": [
    "Visualize frauds and non_frauds data"
   ]
  },
  {
   "cell_type": "code",
   "execution_count": 19,
   "metadata": {},
   "outputs": [
    {
     "data": {
      "image/png": "[encoded data removed]",
      "text/plain": [
       "<Figure size 432x288 with 1 Axes>"
      ]
     },
     "metadata": {
      "needs_background": "light"
     },
     "output_type": "display_data"
    }
   ],
   "source": [
    "ax = frauds.plot.scatter(x='Amount',y='Class',color='Orange',label='Fraud')\n",
    "non_frauds.plot.scatter(x='Amount',y='Class',color='Blue',label='Normal',ax=ax)\n",
    "plt.show()"
   ]
  },
  {
   "cell_type": "markdown",
   "metadata": {},
   "source": [
    "Frauds amount are below $5000 in the dataset"
   ]
  },
  {
   "cell_type": "markdown",
   "metadata": {},
   "source": [
    "Prep train/test dataset"
   ]
  },
  {
   "cell_type": "code",
   "execution_count": 24,
   "metadata": {},
   "outputs": [],
   "source": [
    "from sklearn import linear_model\n",
    "from sklearn.model_selection import train_test_split"
   ]
  },
  {
   "cell_type": "code",
   "execution_count": 25,
   "metadata": {},
   "outputs": [],
   "source": [
    "x=df.iloc[:,:-1]\n",
    "y=df['Class']"
   ]
  },
  {
   "cell_type": "code",
   "execution_count": 26,
   "metadata": {},
   "outputs": [],
   "source": [
    "X_train, X_test, y_train, y_test = train_test_split(x,y,test_size=0.3)"
   ]
  },
  {
   "cell_type": "markdown",
   "metadata": {},
   "source": [
    "Logistic Regression"
   ]
  },
  {
   "cell_type": "code",
   "execution_count": 28,
   "metadata": {},
   "outputs": [
    {
     "name": "stderr",
     "output_type": "stream",
     "text": [
      "C:\\Users\\Yan family\\Anaconda3\\lib\\site-packages\\sklearn\\linear_model\\logistic.py:432: FutureWarning: Default solver will be changed to 'lbfgs' in 0.22. Specify a solver to silence this warning.\n",
      "  FutureWarning)\n"
     ]
    },
    {
     "name": "stdout",
     "output_type": "stream",
     "text": [
      "Score 0.9987242957293166\n"
     ]
    }
   ],
   "source": [
    "logistic = linear_model.LogisticRegression(C=1e5)\n",
    "logistic.fit(X_train,y_train)\n",
    "print('Score',logistic.score(X_test,y_test))"
   ]
  },
  {
   "cell_type": "markdown",
   "metadata": {},
   "source": [
    "Over-fitting? Maybe..."
   ]
  }
 ],
 "metadata": {
  "kernelspec": {
   "display_name": "Python 3",
   "language": "python",
   "name": "python3"
  },
  "language_info": {
   "codemirror_mode": {
    "name": "ipython",
    "version": 3
   },
   "file_extension": ".py",
   "mimetype": "text/x-python",
   "name": "python",
   "nbconvert_exporter": "python",
   "pygments_lexer": "ipython3",
   "version": "3.7.3"
  }
 },
 "nbformat": 4,
 "nbformat_minor": 2
}
